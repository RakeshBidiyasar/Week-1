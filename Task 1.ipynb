{
 "cells": [
  {
   "cell_type": "code",
   "execution_count": 1,
   "id": "bbe6b3f0-5673-4776-bb7e-cc39e49815fd",
   "metadata": {},
   "outputs": [
    {
     "name": "stdout",
     "output_type": "stream",
     "text": [
      "Processed and cleaned data saved to B.csv\n"
     ]
    }
   ],
   "source": [
    "import csv\n",
    "A = \"A.csv\"\n",
    "B = \"B.csv\"\n",
    "with open(A, \"r\") as infile:\n",
    "    reader = csv.reader(infile)\n",
    "    header = next(reader)\n",
    "    data = []\n",
    "    \n",
    "    for row in reader:\n",
    "        cleaned_row = [value.strip() if isinstance(value, str) else value for value in row]\n",
    "        cleaned_row = [value if value != \"\" else \"Unknown\" for value in cleaned_row]\n",
    "        for i in range(1, len(cleaned_row)):\n",
    "            try:\n",
    "                cleaned_row[i] = int(cleaned_row[i]) if cleaned_row[i].isdigit() else cleaned_row[i]\n",
    "            except ValueError:\n",
    "                cleaned_row[i] = 0\n",
    "        data.append(cleaned_row)\n",
    "        \n",
    "with open(B, \"w\") as outfile:\n",
    "    writer = csv.writer(outfile)\n",
    "    writer.writerow(header)\n",
    "    writer.writerows(data)\n",
    "print(f\"Processed and cleaned data saved to {B}\")"
   ]
  },
  {
   "cell_type": "code",
   "execution_count": null,
   "id": "c0566f6d-2d7f-470d-9020-27131eac3196",
   "metadata": {},
   "outputs": [],
   "source": []
  }
 ],
 "metadata": {
  "kernelspec": {
   "display_name": "Python 3 (ipykernel)",
   "language": "python",
   "name": "python3"
  },
  "language_info": {
   "codemirror_mode": {
    "name": "ipython",
    "version": 3
   },
   "file_extension": ".py",
   "mimetype": "text/x-python",
   "name": "python",
   "nbconvert_exporter": "python",
   "pygments_lexer": "ipython3",
   "version": "3.13.2"
  }
 },
 "nbformat": 4,
 "nbformat_minor": 5
}
